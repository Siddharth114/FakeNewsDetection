{
 "cells": [
  {
   "cell_type": "markdown",
   "metadata": {},
   "source": [
    "Importing all the required libraries"
   ]
  },
  {
   "cell_type": "code",
   "execution_count": 2,
   "metadata": {},
   "outputs": [],
   "source": [
    "import pandas as pd\n",
    "import numpy as np\n",
    "import seaborn as sns\n",
    "import matplotlib.pyplot as plt\n",
    "from sklearn.model_selection import train_test_split\n",
    "from sklearn.metrics import accuracy_score\n",
    "from sklearn.metrics import classification_report\n",
    "import re"
   ]
  },
  {
   "cell_type": "markdown",
   "metadata": {},
   "source": [
    "Reading the csv files"
   ]
  },
  {
   "cell_type": "code",
   "execution_count": 3,
   "metadata": {},
   "outputs": [],
   "source": [
    "df_fake_path = '/Users/siddharth/Code/Python/FakeNewsDetection/data/Fake.csv'\n",
    "df_true_path = '/Users/siddharth/Code/Python/FakeNewsDetection/data/True.csv'\n",
    "\n",
    "df_fake = pd.read_csv(df_fake_path)\n",
    "df_true = pd.read_csv(df_true_path)"
   ]
  },
  {
   "cell_type": "code",
   "execution_count": 4,
   "metadata": {},
   "outputs": [
    {
     "data": {
      "text/plain": "((23481, 4), (21417, 4))"
     },
     "execution_count": 4,
     "metadata": {},
     "output_type": "execute_result"
    }
   ],
   "source": [
    "df_fake.shape, df_true.shape"
   ]
  },
  {
   "cell_type": "markdown",
   "metadata": {},
   "source": [
    "Adding a column, 'reliability' to both dataframes to denote the credibility of the article (True - true news, False - fake news)"
   ]
  },
  {
   "cell_type": "code",
   "execution_count": 5,
   "metadata": {},
   "outputs": [],
   "source": [
    "df_fake[\"reliability\"] = False\n",
    "df_true[\"reliability\"] = True"
   ]
  },
  {
   "cell_type": "markdown",
   "metadata": {},
   "source": [
    "Creating separate testing files, from origial dataframe, by choosing 10 random rows of data"
   ]
  },
  {
   "cell_type": "code",
   "execution_count": 6,
   "metadata": {},
   "outputs": [],
   "source": [
    "df_fake_testing = df_fake.sample(10)\n",
    "df_true_testing = df_true.sample(10)\n",
    "\n",
    "df_fake_training = df_fake.drop(df_fake_testing.index)\n",
    "df_true_training = df_true.drop(df_true_testing.index)"
   ]
  },
  {
   "cell_type": "code",
   "execution_count": 7,
   "metadata": {},
   "outputs": [
    {
     "data": {
      "text/plain": "((23471, 5), (21407, 5))"
     },
     "execution_count": 7,
     "metadata": {},
     "output_type": "execute_result"
    }
   ],
   "source": [
    "df_fake_training.shape, df_true_training.shape"
   ]
  },
  {
   "cell_type": "code",
   "execution_count": 8,
   "metadata": {},
   "outputs": [],
   "source": [
    "df_manual_testing = pd.concat([df_fake_testing,df_true_testing], axis = 0)\n",
    "manual_testing_path = '/Users/siddharth/Code/Python/FakeNewsDetection/data/manual_testing.csv'\n",
    "df_manual_testing.to_csv(manual_testing_path)"
   ]
  },
  {
   "cell_type": "markdown",
   "metadata": {},
   "source": [
    "Merging the fake and true news testing dataframes"
   ]
  },
  {
   "cell_type": "code",
   "execution_count": 9,
   "metadata": {},
   "outputs": [
    {
     "data": {
      "text/html": "<div>\n<style scoped>\n    .dataframe tbody tr th:only-of-type {\n        vertical-align: middle;\n    }\n\n    .dataframe tbody tr th {\n        vertical-align: top;\n    }\n\n    .dataframe thead th {\n        text-align: right;\n    }\n</style>\n<table border=\"1\" class=\"dataframe\">\n  <thead>\n    <tr style=\"text-align: right;\">\n      <th></th>\n      <th>title</th>\n      <th>text</th>\n      <th>subject</th>\n      <th>date</th>\n      <th>reliability</th>\n    </tr>\n  </thead>\n  <tbody>\n    <tr>\n      <th>0</th>\n      <td>Donald Trump Sends Out Embarrassing New Year’...</td>\n      <td>Donald Trump just couldn t wish all Americans ...</td>\n      <td>News</td>\n      <td>December 31, 2017</td>\n      <td>False</td>\n    </tr>\n    <tr>\n      <th>1</th>\n      <td>Drunk Bragging Trump Staffer Started Russian ...</td>\n      <td>House Intelligence Committee Chairman Devin Nu...</td>\n      <td>News</td>\n      <td>December 31, 2017</td>\n      <td>False</td>\n    </tr>\n    <tr>\n      <th>2</th>\n      <td>Sheriff David Clarke Becomes An Internet Joke...</td>\n      <td>On Friday, it was revealed that former Milwauk...</td>\n      <td>News</td>\n      <td>December 30, 2017</td>\n      <td>False</td>\n    </tr>\n    <tr>\n      <th>3</th>\n      <td>Trump Is So Obsessed He Even Has Obama’s Name...</td>\n      <td>On Christmas day, Donald Trump announced that ...</td>\n      <td>News</td>\n      <td>December 29, 2017</td>\n      <td>False</td>\n    </tr>\n    <tr>\n      <th>4</th>\n      <td>Pope Francis Just Called Out Donald Trump Dur...</td>\n      <td>Pope Francis used his annual Christmas Day mes...</td>\n      <td>News</td>\n      <td>December 25, 2017</td>\n      <td>False</td>\n    </tr>\n    <tr>\n      <th>5</th>\n      <td>Racist Alabama Cops Brutalize Black Boy While...</td>\n      <td>The number of cases of cops brutalizing and ki...</td>\n      <td>News</td>\n      <td>December 25, 2017</td>\n      <td>False</td>\n    </tr>\n    <tr>\n      <th>6</th>\n      <td>Fresh Off The Golf Course, Trump Lashes Out A...</td>\n      <td>Donald Trump spent a good portion of his day a...</td>\n      <td>News</td>\n      <td>December 23, 2017</td>\n      <td>False</td>\n    </tr>\n    <tr>\n      <th>7</th>\n      <td>Trump Said Some INSANELY Racist Stuff Inside ...</td>\n      <td>In the wake of yet another court decision that...</td>\n      <td>News</td>\n      <td>December 23, 2017</td>\n      <td>False</td>\n    </tr>\n    <tr>\n      <th>8</th>\n      <td>Former CIA Director Slams Trump Over UN Bully...</td>\n      <td>Many people have raised the alarm regarding th...</td>\n      <td>News</td>\n      <td>December 22, 2017</td>\n      <td>False</td>\n    </tr>\n    <tr>\n      <th>9</th>\n      <td>WATCH: Brand-New Pro-Trump Ad Features So Muc...</td>\n      <td>Just when you might have thought we d get a br...</td>\n      <td>News</td>\n      <td>December 21, 2017</td>\n      <td>False</td>\n    </tr>\n  </tbody>\n</table>\n</div>",
      "text/plain": "                                               title  \\\n0   Donald Trump Sends Out Embarrassing New Year’...   \n1   Drunk Bragging Trump Staffer Started Russian ...   \n2   Sheriff David Clarke Becomes An Internet Joke...   \n3   Trump Is So Obsessed He Even Has Obama’s Name...   \n4   Pope Francis Just Called Out Donald Trump Dur...   \n5   Racist Alabama Cops Brutalize Black Boy While...   \n6   Fresh Off The Golf Course, Trump Lashes Out A...   \n7   Trump Said Some INSANELY Racist Stuff Inside ...   \n8   Former CIA Director Slams Trump Over UN Bully...   \n9   WATCH: Brand-New Pro-Trump Ad Features So Muc...   \n\n                                                text subject  \\\n0  Donald Trump just couldn t wish all Americans ...    News   \n1  House Intelligence Committee Chairman Devin Nu...    News   \n2  On Friday, it was revealed that former Milwauk...    News   \n3  On Christmas day, Donald Trump announced that ...    News   \n4  Pope Francis used his annual Christmas Day mes...    News   \n5  The number of cases of cops brutalizing and ki...    News   \n6  Donald Trump spent a good portion of his day a...    News   \n7  In the wake of yet another court decision that...    News   \n8  Many people have raised the alarm regarding th...    News   \n9  Just when you might have thought we d get a br...    News   \n\n                date  reliability  \n0  December 31, 2017        False  \n1  December 31, 2017        False  \n2  December 30, 2017        False  \n3  December 29, 2017        False  \n4  December 25, 2017        False  \n5  December 25, 2017        False  \n6  December 23, 2017        False  \n7  December 23, 2017        False  \n8  December 22, 2017        False  \n9  December 21, 2017        False  "
     },
     "execution_count": 9,
     "metadata": {},
     "output_type": "execute_result"
    }
   ],
   "source": [
    "df = pd.concat([df_fake, df_true], axis =0)\n",
    "df.head(10)"
   ]
  },
  {
   "cell_type": "markdown",
   "metadata": {},
   "source": [
    "Removing 'title', 'subject', 'date' columns from training set, since it does not play a role on reliability"
   ]
  },
  {
   "cell_type": "code",
   "execution_count": 10,
   "metadata": {},
   "outputs": [
    {
     "data": {
      "text/plain": "Index(['title', 'text', 'subject', 'date', 'reliability'], dtype='object')"
     },
     "execution_count": 10,
     "metadata": {},
     "output_type": "execute_result"
    }
   ],
   "source": [
    "df.columns"
   ]
  },
  {
   "cell_type": "code",
   "execution_count": 11,
   "metadata": {},
   "outputs": [
    {
     "data": {
      "text/html": "<div>\n<style scoped>\n    .dataframe tbody tr th:only-of-type {\n        vertical-align: middle;\n    }\n\n    .dataframe tbody tr th {\n        vertical-align: top;\n    }\n\n    .dataframe thead th {\n        text-align: right;\n    }\n</style>\n<table border=\"1\" class=\"dataframe\">\n  <thead>\n    <tr style=\"text-align: right;\">\n      <th></th>\n      <th>text</th>\n      <th>reliability</th>\n    </tr>\n  </thead>\n  <tbody>\n    <tr>\n      <th>0</th>\n      <td>Donald Trump just couldn t wish all Americans ...</td>\n      <td>False</td>\n    </tr>\n    <tr>\n      <th>1</th>\n      <td>House Intelligence Committee Chairman Devin Nu...</td>\n      <td>False</td>\n    </tr>\n    <tr>\n      <th>2</th>\n      <td>On Friday, it was revealed that former Milwauk...</td>\n      <td>False</td>\n    </tr>\n    <tr>\n      <th>3</th>\n      <td>On Christmas day, Donald Trump announced that ...</td>\n      <td>False</td>\n    </tr>\n    <tr>\n      <th>4</th>\n      <td>Pope Francis used his annual Christmas Day mes...</td>\n      <td>False</td>\n    </tr>\n    <tr>\n      <th>5</th>\n      <td>The number of cases of cops brutalizing and ki...</td>\n      <td>False</td>\n    </tr>\n    <tr>\n      <th>6</th>\n      <td>Donald Trump spent a good portion of his day a...</td>\n      <td>False</td>\n    </tr>\n    <tr>\n      <th>7</th>\n      <td>In the wake of yet another court decision that...</td>\n      <td>False</td>\n    </tr>\n    <tr>\n      <th>8</th>\n      <td>Many people have raised the alarm regarding th...</td>\n      <td>False</td>\n    </tr>\n    <tr>\n      <th>9</th>\n      <td>Just when you might have thought we d get a br...</td>\n      <td>False</td>\n    </tr>\n  </tbody>\n</table>\n</div>",
      "text/plain": "                                                text  reliability\n0  Donald Trump just couldn t wish all Americans ...        False\n1  House Intelligence Committee Chairman Devin Nu...        False\n2  On Friday, it was revealed that former Milwauk...        False\n3  On Christmas day, Donald Trump announced that ...        False\n4  Pope Francis used his annual Christmas Day mes...        False\n5  The number of cases of cops brutalizing and ki...        False\n6  Donald Trump spent a good portion of his day a...        False\n7  In the wake of yet another court decision that...        False\n8  Many people have raised the alarm regarding th...        False\n9  Just when you might have thought we d get a br...        False"
     },
     "execution_count": 11,
     "metadata": {},
     "output_type": "execute_result"
    }
   ],
   "source": [
    "df = df.drop([\"title\", \"subject\",\"date\"], axis = 1)\n",
    "df.head(10)"
   ]
  },
  {
   "cell_type": "markdown",
   "metadata": {},
   "source": [
    "Shuffling the data"
   ]
  },
  {
   "cell_type": "code",
   "execution_count": 12,
   "metadata": {},
   "outputs": [],
   "source": [
    "df = df.sample(frac = 1)"
   ]
  },
  {
   "cell_type": "code",
   "execution_count": 13,
   "metadata": {},
   "outputs": [
    {
     "data": {
      "text/html": "<div>\n<style scoped>\n    .dataframe tbody tr th:only-of-type {\n        vertical-align: middle;\n    }\n\n    .dataframe tbody tr th {\n        vertical-align: top;\n    }\n\n    .dataframe thead th {\n        text-align: right;\n    }\n</style>\n<table border=\"1\" class=\"dataframe\">\n  <thead>\n    <tr style=\"text-align: right;\">\n      <th></th>\n      <th>text</th>\n      <th>reliability</th>\n    </tr>\n  </thead>\n  <tbody>\n    <tr>\n      <th>2822</th>\n      <td>NEW YORK (Reuters) - The mastermind of the “Br...</td>\n      <td>True</td>\n    </tr>\n    <tr>\n      <th>23173</th>\n      <td>21st Century Wire says Donald Trump s victory ...</td>\n      <td>False</td>\n    </tr>\n    <tr>\n      <th>9847</th>\n      <td>President Trump is known for not holding back ...</td>\n      <td>False</td>\n    </tr>\n    <tr>\n      <th>5316</th>\n      <td>Donald Trump has created nothing but division ...</td>\n      <td>False</td>\n    </tr>\n    <tr>\n      <th>1053</th>\n      <td>WASHINGTON (Reuters) - Top Democrats in the U....</td>\n      <td>True</td>\n    </tr>\n    <tr>\n      <th>14162</th>\n      <td>Apparently Hillary s secret emails may contain...</td>\n      <td>False</td>\n    </tr>\n    <tr>\n      <th>11453</th>\n      <td></td>\n      <td>False</td>\n    </tr>\n    <tr>\n      <th>16261</th>\n      <td>Via: NPR</td>\n      <td>False</td>\n    </tr>\n    <tr>\n      <th>7476</th>\n      <td>NEW YORK (Reuters) - From plush penthouse apar...</td>\n      <td>True</td>\n    </tr>\n    <tr>\n      <th>14648</th>\n      <td>HARARE (Reuters) - Zimbabwe opposition leader ...</td>\n      <td>True</td>\n    </tr>\n  </tbody>\n</table>\n</div>",
      "text/plain": "                                                    text  reliability\n2822   NEW YORK (Reuters) - The mastermind of the “Br...         True\n23173  21st Century Wire says Donald Trump s victory ...        False\n9847   President Trump is known for not holding back ...        False\n5316   Donald Trump has created nothing but division ...        False\n1053   WASHINGTON (Reuters) - Top Democrats in the U....         True\n14162  Apparently Hillary s secret emails may contain...        False\n11453                                                           False\n16261                                           Via: NPR        False\n7476   NEW YORK (Reuters) - From plush penthouse apar...         True\n14648  HARARE (Reuters) - Zimbabwe opposition leader ...         True"
     },
     "execution_count": 13,
     "metadata": {},
     "output_type": "execute_result"
    }
   ],
   "source": [
    "df.head(10)"
   ]
  },
  {
   "cell_type": "code",
   "execution_count": 14,
   "metadata": {},
   "outputs": [],
   "source": [
    "df.reset_index(inplace = True)\n",
    "df.drop([\"index\"], axis = 1, inplace = True)"
   ]
  },
  {
   "cell_type": "code",
   "execution_count": 15,
   "metadata": {},
   "outputs": [
    {
     "data": {
      "text/html": "<div>\n<style scoped>\n    .dataframe tbody tr th:only-of-type {\n        vertical-align: middle;\n    }\n\n    .dataframe tbody tr th {\n        vertical-align: top;\n    }\n\n    .dataframe thead th {\n        text-align: right;\n    }\n</style>\n<table border=\"1\" class=\"dataframe\">\n  <thead>\n    <tr style=\"text-align: right;\">\n      <th></th>\n      <th>text</th>\n      <th>reliability</th>\n    </tr>\n  </thead>\n  <tbody>\n    <tr>\n      <th>0</th>\n      <td>NEW YORK (Reuters) - The mastermind of the “Br...</td>\n      <td>True</td>\n    </tr>\n    <tr>\n      <th>1</th>\n      <td>21st Century Wire says Donald Trump s victory ...</td>\n      <td>False</td>\n    </tr>\n    <tr>\n      <th>2</th>\n      <td>President Trump is known for not holding back ...</td>\n      <td>False</td>\n    </tr>\n    <tr>\n      <th>3</th>\n      <td>Donald Trump has created nothing but division ...</td>\n      <td>False</td>\n    </tr>\n    <tr>\n      <th>4</th>\n      <td>WASHINGTON (Reuters) - Top Democrats in the U....</td>\n      <td>True</td>\n    </tr>\n  </tbody>\n</table>\n</div>",
      "text/plain": "                                                text  reliability\n0  NEW YORK (Reuters) - The mastermind of the “Br...         True\n1  21st Century Wire says Donald Trump s victory ...        False\n2  President Trump is known for not holding back ...        False\n3  Donald Trump has created nothing but division ...        False\n4  WASHINGTON (Reuters) - Top Democrats in the U....         True"
     },
     "execution_count": 15,
     "metadata": {},
     "output_type": "execute_result"
    }
   ],
   "source": [
    "df.head()"
   ]
  }
 ],
 "metadata": {
  "kernelspec": {
   "display_name": "Python 3.9.5 64-bit",
   "name": "python395jvsc74a57bd0aee8b7b246df8f9039afb4144a1f6fd8d2ca17a180786b69acc140d282b71a49"
  },
  "language_info": {
   "codemirror_mode": {
    "name": "ipython",
    "version": 3
   },
   "file_extension": ".py",
   "mimetype": "text/x-python",
   "name": "python",
   "nbconvert_exporter": "python",
   "pygments_lexer": "ipython3",
   "version": "3.9.5"
  },
  "metadata": {
   "interpreter": {
    "hash": "aee8b7b246df8f9039afb4144a1f6fd8d2ca17a180786b69acc140d282b71a49"
   }
  },
  "orig_nbformat": 2
 },
 "nbformat": 4,
 "nbformat_minor": 2
}
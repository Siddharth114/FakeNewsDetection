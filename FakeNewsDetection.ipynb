{
 "cells": [
  {
   "cell_type": "markdown",
   "metadata": {},
   "source": [
    "Importing all the required libraries"
   ]
  },
  {
   "cell_type": "code",
   "execution_count": 70,
   "metadata": {},
   "outputs": [],
   "source": [
    "import pandas as pd\n",
    "import numpy as np\n",
    "import re\n",
    "import string\n",
    "from sklearn.feature_extraction.text import TfidfVectorizer\n",
    "from sklearn.linear_model import LogisticRegression\n",
    "from sklearn.tree import DecisionTreeClassifier\n",
    "from sklearn.ensemble import GradientBoostingClassifier\n",
    "from sklearn.ensemble import RandomForestClassifier\n",
    "import seaborn as sns\n",
    "import matplotlib.pyplot as plt\n",
    "from sklearn.model_selection import train_test_split\n",
    "from sklearn.metrics import accuracy_score\n",
    "from sklearn.metrics import classification_report"
   ]
  },
  {
   "cell_type": "markdown",
   "metadata": {},
   "source": [
    "Reading the csv files"
   ]
  },
  {
   "cell_type": "code",
   "execution_count": 71,
   "metadata": {},
   "outputs": [],
   "source": [
    "df_fake_path = '/Users/siddharth/Code/Python/FakeNewsDetection/data/Fake.csv'\n",
    "df_true_path = '/Users/siddharth/Code/Python/FakeNewsDetection/data/True.csv'\n",
    "\n",
    "df_fake = pd.read_csv(df_fake_path)\n",
    "df_true = pd.read_csv(df_true_path)"
   ]
  },
  {
   "cell_type": "code",
   "execution_count": 72,
   "metadata": {},
   "outputs": [
    {
     "data": {
      "text/plain": "((23481, 4), (21417, 4))"
     },
     "execution_count": 72,
     "metadata": {},
     "output_type": "execute_result"
    }
   ],
   "source": [
    "df_fake.shape, df_true.shape"
   ]
  },
  {
   "cell_type": "markdown",
   "metadata": {},
   "source": [
    "Adding a column, 'reliability' to both dataframes to denote the credibility of the article (True - true news, False - fake news)"
   ]
  },
  {
   "cell_type": "code",
   "execution_count": 73,
   "metadata": {},
   "outputs": [],
   "source": [
    "df_fake[\"reliability\"] = False\n",
    "df_true[\"reliability\"] = True"
   ]
  },
  {
   "cell_type": "markdown",
   "metadata": {},
   "source": [
    "Creating separate testing files, from origial dataframe, by choosing 10 random rows of data"
   ]
  },
  {
   "cell_type": "code",
   "execution_count": 74,
   "metadata": {},
   "outputs": [],
   "source": [
    "df_fake_testing = df_fake.sample(10)\n",
    "df_true_testing = df_true.sample(10)\n",
    "\n",
    "df_fake_training = df_fake.drop(df_fake_testing.index)\n",
    "df_true_training = df_true.drop(df_true_testing.index)"
   ]
  },
  {
   "cell_type": "code",
   "execution_count": 75,
   "metadata": {},
   "outputs": [
    {
     "data": {
      "text/plain": "((23471, 5), (21407, 5))"
     },
     "execution_count": 75,
     "metadata": {},
     "output_type": "execute_result"
    }
   ],
   "source": [
    "df_fake_training.shape, df_true_training.shape"
   ]
  },
  {
   "cell_type": "code",
   "execution_count": 76,
   "metadata": {},
   "outputs": [],
   "source": [
    "df_manual_testing = pd.concat([df_fake_testing,df_true_testing], axis = 0)\n",
    "df_manual_testing = df_manual_testing.sample(frac = 1)\n",
    "df_manual_testing.reset_index(inplace = True)\n",
    "df_manual_testing.drop([\"index\"], axis = 1, inplace = True)\n",
    "manual_testing_path = '/Users/siddharth/Code/Python/FakeNewsDetection/data/manual_testing.csv'\n",
    "df_manual_testing.to_csv(manual_testing_path)"
   ]
  },
  {
   "cell_type": "markdown",
   "metadata": {},
   "source": [
    "Merging the fake and true news testing dataframes"
   ]
  },
  {
   "cell_type": "code",
   "execution_count": 77,
   "metadata": {},
   "outputs": [
    {
     "data": {
      "text/html": "<div>\n<style scoped>\n    .dataframe tbody tr th:only-of-type {\n        vertical-align: middle;\n    }\n\n    .dataframe tbody tr th {\n        vertical-align: top;\n    }\n\n    .dataframe thead th {\n        text-align: right;\n    }\n</style>\n<table border=\"1\" class=\"dataframe\">\n  <thead>\n    <tr style=\"text-align: right;\">\n      <th></th>\n      <th>title</th>\n      <th>text</th>\n      <th>subject</th>\n      <th>date</th>\n      <th>reliability</th>\n    </tr>\n  </thead>\n  <tbody>\n    <tr>\n      <th>0</th>\n      <td>Donald Trump Sends Out Embarrassing New Year’...</td>\n      <td>Donald Trump just couldn t wish all Americans ...</td>\n      <td>News</td>\n      <td>December 31, 2017</td>\n      <td>False</td>\n    </tr>\n    <tr>\n      <th>1</th>\n      <td>Drunk Bragging Trump Staffer Started Russian ...</td>\n      <td>House Intelligence Committee Chairman Devin Nu...</td>\n      <td>News</td>\n      <td>December 31, 2017</td>\n      <td>False</td>\n    </tr>\n    <tr>\n      <th>2</th>\n      <td>Sheriff David Clarke Becomes An Internet Joke...</td>\n      <td>On Friday, it was revealed that former Milwauk...</td>\n      <td>News</td>\n      <td>December 30, 2017</td>\n      <td>False</td>\n    </tr>\n    <tr>\n      <th>3</th>\n      <td>Trump Is So Obsessed He Even Has Obama’s Name...</td>\n      <td>On Christmas day, Donald Trump announced that ...</td>\n      <td>News</td>\n      <td>December 29, 2017</td>\n      <td>False</td>\n    </tr>\n    <tr>\n      <th>4</th>\n      <td>Pope Francis Just Called Out Donald Trump Dur...</td>\n      <td>Pope Francis used his annual Christmas Day mes...</td>\n      <td>News</td>\n      <td>December 25, 2017</td>\n      <td>False</td>\n    </tr>\n    <tr>\n      <th>5</th>\n      <td>Racist Alabama Cops Brutalize Black Boy While...</td>\n      <td>The number of cases of cops brutalizing and ki...</td>\n      <td>News</td>\n      <td>December 25, 2017</td>\n      <td>False</td>\n    </tr>\n    <tr>\n      <th>6</th>\n      <td>Fresh Off The Golf Course, Trump Lashes Out A...</td>\n      <td>Donald Trump spent a good portion of his day a...</td>\n      <td>News</td>\n      <td>December 23, 2017</td>\n      <td>False</td>\n    </tr>\n    <tr>\n      <th>7</th>\n      <td>Trump Said Some INSANELY Racist Stuff Inside ...</td>\n      <td>In the wake of yet another court decision that...</td>\n      <td>News</td>\n      <td>December 23, 2017</td>\n      <td>False</td>\n    </tr>\n    <tr>\n      <th>8</th>\n      <td>Former CIA Director Slams Trump Over UN Bully...</td>\n      <td>Many people have raised the alarm regarding th...</td>\n      <td>News</td>\n      <td>December 22, 2017</td>\n      <td>False</td>\n    </tr>\n    <tr>\n      <th>9</th>\n      <td>WATCH: Brand-New Pro-Trump Ad Features So Muc...</td>\n      <td>Just when you might have thought we d get a br...</td>\n      <td>News</td>\n      <td>December 21, 2017</td>\n      <td>False</td>\n    </tr>\n  </tbody>\n</table>\n</div>",
      "text/plain": "                                               title  \\\n0   Donald Trump Sends Out Embarrassing New Year’...   \n1   Drunk Bragging Trump Staffer Started Russian ...   \n2   Sheriff David Clarke Becomes An Internet Joke...   \n3   Trump Is So Obsessed He Even Has Obama’s Name...   \n4   Pope Francis Just Called Out Donald Trump Dur...   \n5   Racist Alabama Cops Brutalize Black Boy While...   \n6   Fresh Off The Golf Course, Trump Lashes Out A...   \n7   Trump Said Some INSANELY Racist Stuff Inside ...   \n8   Former CIA Director Slams Trump Over UN Bully...   \n9   WATCH: Brand-New Pro-Trump Ad Features So Muc...   \n\n                                                text subject  \\\n0  Donald Trump just couldn t wish all Americans ...    News   \n1  House Intelligence Committee Chairman Devin Nu...    News   \n2  On Friday, it was revealed that former Milwauk...    News   \n3  On Christmas day, Donald Trump announced that ...    News   \n4  Pope Francis used his annual Christmas Day mes...    News   \n5  The number of cases of cops brutalizing and ki...    News   \n6  Donald Trump spent a good portion of his day a...    News   \n7  In the wake of yet another court decision that...    News   \n8  Many people have raised the alarm regarding th...    News   \n9  Just when you might have thought we d get a br...    News   \n\n                date  reliability  \n0  December 31, 2017        False  \n1  December 31, 2017        False  \n2  December 30, 2017        False  \n3  December 29, 2017        False  \n4  December 25, 2017        False  \n5  December 25, 2017        False  \n6  December 23, 2017        False  \n7  December 23, 2017        False  \n8  December 22, 2017        False  \n9  December 21, 2017        False  "
     },
     "execution_count": 77,
     "metadata": {},
     "output_type": "execute_result"
    }
   ],
   "source": [
    "df = pd.concat([df_fake, df_true], axis =0)\n",
    "df.head(10)"
   ]
  },
  {
   "cell_type": "markdown",
   "metadata": {},
   "source": [
    "Removing 'title', 'subject', 'date' columns from training set, since it does not play a role on reliability"
   ]
  },
  {
   "cell_type": "code",
   "execution_count": 78,
   "metadata": {},
   "outputs": [
    {
     "data": {
      "text/plain": "Index(['title', 'text', 'subject', 'date', 'reliability'], dtype='object')"
     },
     "execution_count": 78,
     "metadata": {},
     "output_type": "execute_result"
    }
   ],
   "source": [
    "df.columns"
   ]
  },
  {
   "cell_type": "code",
   "execution_count": 79,
   "metadata": {},
   "outputs": [
    {
     "data": {
      "text/html": "<div>\n<style scoped>\n    .dataframe tbody tr th:only-of-type {\n        vertical-align: middle;\n    }\n\n    .dataframe tbody tr th {\n        vertical-align: top;\n    }\n\n    .dataframe thead th {\n        text-align: right;\n    }\n</style>\n<table border=\"1\" class=\"dataframe\">\n  <thead>\n    <tr style=\"text-align: right;\">\n      <th></th>\n      <th>text</th>\n      <th>reliability</th>\n    </tr>\n  </thead>\n  <tbody>\n    <tr>\n      <th>0</th>\n      <td>Donald Trump just couldn t wish all Americans ...</td>\n      <td>False</td>\n    </tr>\n    <tr>\n      <th>1</th>\n      <td>House Intelligence Committee Chairman Devin Nu...</td>\n      <td>False</td>\n    </tr>\n    <tr>\n      <th>2</th>\n      <td>On Friday, it was revealed that former Milwauk...</td>\n      <td>False</td>\n    </tr>\n    <tr>\n      <th>3</th>\n      <td>On Christmas day, Donald Trump announced that ...</td>\n      <td>False</td>\n    </tr>\n    <tr>\n      <th>4</th>\n      <td>Pope Francis used his annual Christmas Day mes...</td>\n      <td>False</td>\n    </tr>\n    <tr>\n      <th>5</th>\n      <td>The number of cases of cops brutalizing and ki...</td>\n      <td>False</td>\n    </tr>\n    <tr>\n      <th>6</th>\n      <td>Donald Trump spent a good portion of his day a...</td>\n      <td>False</td>\n    </tr>\n    <tr>\n      <th>7</th>\n      <td>In the wake of yet another court decision that...</td>\n      <td>False</td>\n    </tr>\n    <tr>\n      <th>8</th>\n      <td>Many people have raised the alarm regarding th...</td>\n      <td>False</td>\n    </tr>\n    <tr>\n      <th>9</th>\n      <td>Just when you might have thought we d get a br...</td>\n      <td>False</td>\n    </tr>\n  </tbody>\n</table>\n</div>",
      "text/plain": "                                                text  reliability\n0  Donald Trump just couldn t wish all Americans ...        False\n1  House Intelligence Committee Chairman Devin Nu...        False\n2  On Friday, it was revealed that former Milwauk...        False\n3  On Christmas day, Donald Trump announced that ...        False\n4  Pope Francis used his annual Christmas Day mes...        False\n5  The number of cases of cops brutalizing and ki...        False\n6  Donald Trump spent a good portion of his day a...        False\n7  In the wake of yet another court decision that...        False\n8  Many people have raised the alarm regarding th...        False\n9  Just when you might have thought we d get a br...        False"
     },
     "execution_count": 79,
     "metadata": {},
     "output_type": "execute_result"
    }
   ],
   "source": [
    "df = df.drop([\"title\", \"subject\",\"date\"], axis = 1)\n",
    "df.head(10)"
   ]
  },
  {
   "cell_type": "markdown",
   "metadata": {},
   "source": [
    "Shuffling the data"
   ]
  },
  {
   "cell_type": "code",
   "execution_count": 80,
   "metadata": {},
   "outputs": [],
   "source": [
    "df = df.sample(frac = 1)"
   ]
  },
  {
   "cell_type": "code",
   "execution_count": 81,
   "metadata": {},
   "outputs": [
    {
     "data": {
      "text/html": "<div>\n<style scoped>\n    .dataframe tbody tr th:only-of-type {\n        vertical-align: middle;\n    }\n\n    .dataframe tbody tr th {\n        vertical-align: top;\n    }\n\n    .dataframe thead th {\n        text-align: right;\n    }\n</style>\n<table border=\"1\" class=\"dataframe\">\n  <thead>\n    <tr style=\"text-align: right;\">\n      <th></th>\n      <th>text</th>\n      <th>reliability</th>\n    </tr>\n  </thead>\n  <tbody>\n    <tr>\n      <th>15749</th>\n      <td></td>\n      <td>False</td>\n    </tr>\n    <tr>\n      <th>401</th>\n      <td>WASHINGTON (Reuters) - The U.S. House of Repre...</td>\n      <td>True</td>\n    </tr>\n    <tr>\n      <th>19100</th>\n      <td>BRUSSELS (Reuters) - Police searched eight hou...</td>\n      <td>True</td>\n    </tr>\n    <tr>\n      <th>1822</th>\n      <td>(Reuters) - Jamie Selway, the leading candidat...</td>\n      <td>True</td>\n    </tr>\n    <tr>\n      <th>144</th>\n      <td>When we talk about getting rid of Trump, we al...</td>\n      <td>False</td>\n    </tr>\n    <tr>\n      <th>3700</th>\n      <td>Megyn Kelly s new book,  Settle For More,  see...</td>\n      <td>False</td>\n    </tr>\n    <tr>\n      <th>19949</th>\n      <td>Hillary is without a doubt, the worst and most...</td>\n      <td>False</td>\n    </tr>\n    <tr>\n      <th>8727</th>\n      <td>CLEVELAND (Reuters) - Ohio Governor John Kasic...</td>\n      <td>True</td>\n    </tr>\n    <tr>\n      <th>20277</th>\n      <td>Bad timing This is not great news for the Blac...</td>\n      <td>False</td>\n    </tr>\n    <tr>\n      <th>3552</th>\n      <td>Green Party presidential nominee Jill Stein ha...</td>\n      <td>False</td>\n    </tr>\n  </tbody>\n</table>\n</div>",
      "text/plain": "                                                    text  reliability\n15749                                                           False\n401    WASHINGTON (Reuters) - The U.S. House of Repre...         True\n19100  BRUSSELS (Reuters) - Police searched eight hou...         True\n1822   (Reuters) - Jamie Selway, the leading candidat...         True\n144    When we talk about getting rid of Trump, we al...        False\n3700   Megyn Kelly s new book,  Settle For More,  see...        False\n19949  Hillary is without a doubt, the worst and most...        False\n8727   CLEVELAND (Reuters) - Ohio Governor John Kasic...         True\n20277  Bad timing This is not great news for the Blac...        False\n3552   Green Party presidential nominee Jill Stein ha...        False"
     },
     "execution_count": 81,
     "metadata": {},
     "output_type": "execute_result"
    }
   ],
   "source": [
    "df.head(10)"
   ]
  },
  {
   "cell_type": "code",
   "execution_count": 82,
   "metadata": {},
   "outputs": [],
   "source": [
    "df.reset_index(inplace = True)\n",
    "df.drop([\"index\"], axis = 1, inplace = True)"
   ]
  },
  {
   "cell_type": "code",
   "execution_count": 83,
   "metadata": {},
   "outputs": [
    {
     "data": {
      "text/html": "<div>\n<style scoped>\n    .dataframe tbody tr th:only-of-type {\n        vertical-align: middle;\n    }\n\n    .dataframe tbody tr th {\n        vertical-align: top;\n    }\n\n    .dataframe thead th {\n        text-align: right;\n    }\n</style>\n<table border=\"1\" class=\"dataframe\">\n  <thead>\n    <tr style=\"text-align: right;\">\n      <th></th>\n      <th>text</th>\n      <th>reliability</th>\n    </tr>\n  </thead>\n  <tbody>\n    <tr>\n      <th>0</th>\n      <td></td>\n      <td>False</td>\n    </tr>\n    <tr>\n      <th>1</th>\n      <td>WASHINGTON (Reuters) - The U.S. House of Repre...</td>\n      <td>True</td>\n    </tr>\n    <tr>\n      <th>2</th>\n      <td>BRUSSELS (Reuters) - Police searched eight hou...</td>\n      <td>True</td>\n    </tr>\n    <tr>\n      <th>3</th>\n      <td>(Reuters) - Jamie Selway, the leading candidat...</td>\n      <td>True</td>\n    </tr>\n    <tr>\n      <th>4</th>\n      <td>When we talk about getting rid of Trump, we al...</td>\n      <td>False</td>\n    </tr>\n  </tbody>\n</table>\n</div>",
      "text/plain": "                                                text  reliability\n0                                                           False\n1  WASHINGTON (Reuters) - The U.S. House of Repre...         True\n2  BRUSSELS (Reuters) - Police searched eight hou...         True\n3  (Reuters) - Jamie Selway, the leading candidat...         True\n4  When we talk about getting rid of Trump, we al...        False"
     },
     "execution_count": 83,
     "metadata": {},
     "output_type": "execute_result"
    }
   ],
   "source": [
    "df.head()"
   ]
  },
  {
   "cell_type": "markdown",
   "metadata": {},
   "source": [
    "Writing a function 'clean' to clean the text of the article by removing extra spaces, special characters, and converting to lower case."
   ]
  },
  {
   "cell_type": "code",
   "execution_count": 84,
   "metadata": {},
   "outputs": [],
   "source": [
    "def clean(t):\n",
    "    t = t.lower()\n",
    "    t = re.sub('\\[.*?\\]', '', t)\n",
    "    t = re.sub(\"\\\\W\",\" \",t) \n",
    "    t = re.sub('https?://\\S+|www\\.\\S+', '', t)\n",
    "    t = re.sub('<.*?>+', '', t)\n",
    "    t = re.sub('[%s]' % re.escape(string.punctuation), '', t)\n",
    "    t = re.sub('\\n', '', t)\n",
    "    t = re.sub('\\w*\\d\\w*', '', t)    \n",
    "    return t"
   ]
  },
  {
   "cell_type": "code",
   "execution_count": 85,
   "metadata": {},
   "outputs": [],
   "source": [
    "df[\"text\"] = df[\"text\"].apply(clean)"
   ]
  },
  {
   "cell_type": "code",
   "execution_count": 86,
   "metadata": {},
   "outputs": [],
   "source": [
    "x = df['text']\n",
    "y = df['reliability']"
   ]
  },
  {
   "cell_type": "markdown",
   "metadata": {},
   "source": [
    "Splitting the cleaned data into training and testing sets"
   ]
  },
  {
   "cell_type": "code",
   "execution_count": 87,
   "metadata": {},
   "outputs": [],
   "source": [
    "x_train, x_test, y_train, y_test = train_test_split(x, y, test_size=0.25)"
   ]
  },
  {
   "cell_type": "markdown",
   "metadata": {},
   "source": [
    "Converting the text to vectors"
   ]
  },
  {
   "cell_type": "code",
   "execution_count": 88,
   "metadata": {},
   "outputs": [],
   "source": [
    "vectorization = TfidfVectorizer()\n",
    "xv_train = vectorization.fit_transform(x_train)\n",
    "xv_test = vectorization.transform(x_test)"
   ]
  },
  {
   "cell_type": "markdown",
   "metadata": {},
   "source": [
    "Logistic Regression model"
   ]
  },
  {
   "cell_type": "code",
   "execution_count": 89,
   "metadata": {},
   "outputs": [
    {
     "data": {
      "text/plain": "LogisticRegression()"
     },
     "execution_count": 89,
     "metadata": {},
     "output_type": "execute_result"
    }
   ],
   "source": [
    "LR = LogisticRegression()\n",
    "LR.fit(xv_train,y_train)"
   ]
  },
  {
   "cell_type": "code",
   "execution_count": 90,
   "metadata": {},
   "outputs": [],
   "source": [
    "lr_prediction=LR.predict(xv_test)"
   ]
  },
  {
   "cell_type": "code",
   "execution_count": 91,
   "metadata": {},
   "outputs": [
    {
     "data": {
      "text/plain": "0.9870824053452116"
     },
     "execution_count": 91,
     "metadata": {},
     "output_type": "execute_result"
    }
   ],
   "source": [
    "LR.score(xv_test, y_test)"
   ]
  },
  {
   "cell_type": "code",
   "execution_count": 92,
   "metadata": {},
   "outputs": [
    {
     "name": "stdout",
     "output_type": "stream",
     "text": [
      "              precision    recall  f1-score   support\n",
      "\n",
      "       False       0.99      0.99      0.99      5920\n",
      "        True       0.99      0.99      0.99      5305\n",
      "\n",
      "    accuracy                           0.99     11225\n",
      "   macro avg       0.99      0.99      0.99     11225\n",
      "weighted avg       0.99      0.99      0.99     11225\n",
      "\n"
     ]
    }
   ],
   "source": [
    "print(classification_report(y_test, lr_prediction))"
   ]
  },
  {
   "cell_type": "markdown",
   "metadata": {},
   "source": [
    "Decision Tree Classification"
   ]
  },
  {
   "cell_type": "code",
   "execution_count": 93,
   "metadata": {},
   "outputs": [
    {
     "data": {
      "text/plain": "DecisionTreeClassifier()"
     },
     "execution_count": 93,
     "metadata": {},
     "output_type": "execute_result"
    }
   ],
   "source": [
    "DT = DecisionTreeClassifier()\n",
    "DT.fit(xv_train, y_train)"
   ]
  },
  {
   "cell_type": "code",
   "execution_count": 94,
   "metadata": {},
   "outputs": [],
   "source": [
    "dt_prediction = DT.predict(xv_test)"
   ]
  },
  {
   "cell_type": "code",
   "execution_count": 95,
   "metadata": {},
   "outputs": [
    {
     "data": {
      "text/plain": "0.995011135857461"
     },
     "execution_count": 95,
     "metadata": {},
     "output_type": "execute_result"
    }
   ],
   "source": [
    "DT.score(xv_test, y_test)"
   ]
  },
  {
   "cell_type": "code",
   "execution_count": 96,
   "metadata": {},
   "outputs": [
    {
     "name": "stdout",
     "output_type": "stream",
     "text": [
      "              precision    recall  f1-score   support\n",
      "\n",
      "       False       0.99      1.00      1.00      5920\n",
      "        True       1.00      0.99      0.99      5305\n",
      "\n",
      "    accuracy                           1.00     11225\n",
      "   macro avg       1.00      0.99      0.99     11225\n",
      "weighted avg       1.00      1.00      1.00     11225\n",
      "\n"
     ]
    }
   ],
   "source": [
    "print(classification_report(y_test, dt_prediction))"
   ]
  },
  {
   "cell_type": "markdown",
   "metadata": {},
   "source": [
    "Gradient Boosting Classifier"
   ]
  },
  {
   "cell_type": "code",
   "execution_count": 99,
   "metadata": {},
   "outputs": [
    {
     "data": {
      "text/plain": "GradientBoostingClassifier(random_state=0)"
     },
     "execution_count": 99,
     "metadata": {},
     "output_type": "execute_result"
    }
   ],
   "source": [
    "GBC = GradientBoostingClassifier(random_state=0)\n",
    "GBC.fit(xv_train, y_train)"
   ]
  },
  {
   "cell_type": "code",
   "execution_count": 100,
   "metadata": {},
   "outputs": [],
   "source": [
    "gbc_prediction = GBC.predict(xv_test)"
   ]
  },
  {
   "cell_type": "code",
   "execution_count": 101,
   "metadata": {},
   "outputs": [
    {
     "data": {
      "text/plain": "0.995902004454343"
     },
     "execution_count": 101,
     "metadata": {},
     "output_type": "execute_result"
    }
   ],
   "source": [
    "GBC.score(xv_test, y_test)"
   ]
  },
  {
   "cell_type": "code",
   "execution_count": 102,
   "metadata": {},
   "outputs": [
    {
     "name": "stdout",
     "output_type": "stream",
     "text": [
      "              precision    recall  f1-score   support\n",
      "\n",
      "       False       1.00      0.99      1.00      5920\n",
      "        True       0.99      1.00      1.00      5305\n",
      "\n",
      "    accuracy                           1.00     11225\n",
      "   macro avg       1.00      1.00      1.00     11225\n",
      "weighted avg       1.00      1.00      1.00     11225\n",
      "\n"
     ]
    }
   ],
   "source": [
    "print(classification_report(y_test, gbc_prediction))"
   ]
  },
  {
   "cell_type": "markdown",
   "metadata": {},
   "source": [
    "Random Forest Classifier"
   ]
  },
  {
   "cell_type": "code",
   "execution_count": 103,
   "metadata": {},
   "outputs": [
    {
     "data": {
      "text/plain": "RandomForestClassifier(random_state=0)"
     },
     "execution_count": 103,
     "metadata": {},
     "output_type": "execute_result"
    }
   ],
   "source": [
    "RFC = RandomForestClassifier(random_state=0)\n",
    "RFC.fit(xv_train, y_train)"
   ]
  },
  {
   "cell_type": "code",
   "execution_count": 104,
   "metadata": {},
   "outputs": [],
   "source": [
    "rfc_prediction = RFC.predict(xv_test)"
   ]
  },
  {
   "cell_type": "code",
   "execution_count": 105,
   "metadata": {},
   "outputs": [
    {
     "data": {
      "text/plain": "0.9870824053452116"
     },
     "execution_count": 105,
     "metadata": {},
     "output_type": "execute_result"
    }
   ],
   "source": [
    "RFC.score(xv_test, y_test)"
   ]
  },
  {
   "cell_type": "code",
   "execution_count": 106,
   "metadata": {},
   "outputs": [
    {
     "name": "stdout",
     "output_type": "stream",
     "text": [
      "              precision    recall  f1-score   support\n",
      "\n",
      "       False       0.99      0.99      0.99      5920\n",
      "        True       0.99      0.99      0.99      5305\n",
      "\n",
      "    accuracy                           0.99     11225\n",
      "   macro avg       0.99      0.99      0.99     11225\n",
      "weighted avg       0.99      0.99      0.99     11225\n",
      "\n"
     ]
    }
   ],
   "source": [
    "print(classification_report(y_test, rfc_prediction))"
   ]
  },
  {
   "cell_type": "markdown",
   "metadata": {},
   "source": [
    "Manual Testing"
   ]
  },
  {
   "cell_type": "code",
   "execution_count": 147,
   "metadata": {},
   "outputs": [],
   "source": [
    "def manual_testing(news):\n",
    "    testing_news = {\"text\":[news]}\n",
    "    new_def_test = pd.DataFrame(testing_news)\n",
    "    new_def_test[\"text\"] = new_def_test[\"text\"].apply(clean) \n",
    "    new_x_test = new_def_test[\"text\"]\n",
    "    new_xv_test = vectorization.transform(new_x_test)\n",
    "    LR_predictions = LR.predict(new_xv_test)\n",
    "    DT_predictions = DT.predict(new_xv_test)\n",
    "    GBC_predictions = GBC.predict(new_xv_test)\n",
    "    RFC_predictions = RFC.predict(new_xv_test)\n",
    "    count_f,count_t = 0,0\n",
    "    for i in [LR_predictions[0], DT_predictions[0], GBC_predictions[0], RFC_predictions[0]]:\n",
    "        if i:\n",
    "            count_t+=1\n",
    "        else:\n",
    "            count_f+=1\n",
    "    if count_f>count_t:\n",
    "        p = int((count_f/4)*100)\n",
    "    else:\n",
    "        p = int((count_t/4)*100)\n",
    "    if  not LR_predictions[0]:\n",
    "        return [f'{p}% of the regression models have predicted that the article is fake or unreliable.', False, p]\n",
    "    else:\n",
    "        return [f'{p}% of the regression models have predicted that the article is true and reliable.', True, p]"
   ]
  },
  {
   "cell_type": "code",
   "execution_count": 150,
   "metadata": {},
   "outputs": [
    {
     "name": "stdout",
     "output_type": "stream",
     "text": [
      "For the article: \" Well It Happened, Trump Gets Desperate And Goes Full BENGHAZI On Hillary (TWEET)\", 100% of the regression models have predicted that the article is fake or unreliable.\n",
      "For the article: \"Trump's prediction of 'massive recession' puzzles economists\", 100% of the regression models have predicted that the article is true and reliable.\n",
      "For the article: \" ‘Piece Of Sh*t’: GOP Senator Immediately Regrets Trolling Bernie Sanders Over Trumpcare\", 100% of the regression models have predicted that the article is fake or unreliable.\n",
      "For the article: \"Ex-U.S. Attorney Bharara, fired by Trump, joins NYU law school\", 100% of the regression models have predicted that the article is true and reliable.\n",
      "For the article: \"COINTEL PRO: Are ‘Anti-Fascist’ Media Personalities Playing to the Cameras?\", 100% of the regression models have predicted that the article is fake or unreliable.\n",
      "For the article: \"IT’S COME TO THIS: Leftist Media and Protesters Go For The Jugular In All Out Freak Out Over Possible Trump Win On Super Tuesday [Video]\", 100% of the regression models have predicted that the article is fake or unreliable.\n",
      "For the article: \"U.S.-backed SDF says Raqqa campaign in final stages\", 100% of the regression models have predicted that the article is true and reliable.\n",
      "For the article: \"EXPOSE THE LIES: Shut Down Planned Parenthood’s Phone Lines\", 100% of the regression models have predicted that the article is fake or unreliable.\n",
      "For the article: \"Illinois lawmaker's daughter charged in political staple attack\", 100% of the regression models have predicted that the article is true and reliable.\n",
      "For the article: \"AWESOME! CONSERVATIVE STREET ARTIST Plasters Posters All Over Hollywood Mocking Oscars\", 100% of the regression models have predicted that the article is fake or unreliable.\n",
      "For the article: \"Gunmen kill four  in sectarian attack in Pakistan\", 100% of the regression models have predicted that the article is true and reliable.\n",
      "For the article: \"Russian court rejects Siemens claim that Crimea turbines sale was invalid\", 100% of the regression models have predicted that the article is true and reliable.\n",
      "For the article: \" WATCH: Samantha Bee Skewers Evangelicals For Obsessing Over Abortion\", 100% of the regression models have predicted that the article is fake or unreliable.\n",
      "For the article: \" Bernie Criticizes Israel’s ‘Disproportionate’ 2014 Slaughter Of Palestinian Civilians (VIDEO)\", 100% of the regression models have predicted that the article is fake or unreliable.\n",
      "For the article: \"Obama budget to adjust health insurance 'Cadillac tax': adviser\", 100% of the regression models have predicted that the article is true and reliable.\n",
      "For the article: \"Clinton calls Trump a 'loose cannon,' risky choice for president\", 100% of the regression models have predicted that the article is true and reliable.\n",
      "For the article: \"(VIDEO) WATCH GOV RICK PERRY SQUIRM AS TRUMP TRAVELS TO TEXAS BORDER TOMORROW\", 100% of the regression models have predicted that the article is fake or unreliable.\n",
      "For the article: \" Dwyane Wade Has Some Choice Words For Trump After Tweet About Cousin (VIDEO)\", 100% of the regression models have predicted that the article is fake or unreliable.\n",
      "For the article: \"Republican candidate Kasich's 'kitchen' comment draws scorn\", 100% of the regression models have predicted that the article is true and reliable.\n",
      "For the article: \"Turkey suggests plan to extend military mission in Syria to Afrin, Aleppo\", 100% of the regression models have predicted that the article is true and reliable.\n",
      "The score of the regression models is 20/20\n"
     ]
    }
   ],
   "source": [
    "testing = pd.read_csv(manual_testing_path)\n",
    "txt, truth, percent = '',False,0\n",
    "score=0\n",
    "for i in range(20):\n",
    "    txt, truth, percent = manual_testing(testing.at[i,'text'])\n",
    "    print('For the article: \\\"' + testing.at[i,'title'] + '\\\", ' + txt)\n",
    "    if truth == testing.at[i,'reliability']:\n",
    "        score+=1\n",
    "print(f'The score of the regression models is {score}/20')"
   ]
  }
 ],
 "metadata": {
  "kernelspec": {
   "display_name": "Python 3.9.5 64-bit",
   "name": "python395jvsc74a57bd0aee8b7b246df8f9039afb4144a1f6fd8d2ca17a180786b69acc140d282b71a49"
  },
  "language_info": {
   "codemirror_mode": {
    "name": "ipython",
    "version": 3
   },
   "file_extension": ".py",
   "mimetype": "text/x-python",
   "name": "python",
   "nbconvert_exporter": "python",
   "pygments_lexer": "ipython3",
   "version": "3.9.5"
  },
  "metadata": {
   "interpreter": {
    "hash": "aee8b7b246df8f9039afb4144a1f6fd8d2ca17a180786b69acc140d282b71a49"
   }
  },
  "orig_nbformat": 2
 },
 "nbformat": 4,
 "nbformat_minor": 2
}